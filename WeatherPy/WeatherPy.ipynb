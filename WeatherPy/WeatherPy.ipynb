{
 "cells": [
  {
   "cell_type": "markdown",
   "metadata": {},
   "source": [
    "# WeatherPy\n",
    "----\n",
    "\n",
    "#### Note\n",
    "* Instructions have been included for each segment. You do not have to follow them exactly, but they are included to help you think through the steps."
   ]
  },
  {
   "cell_type": "code",
   "execution_count": 3,
   "metadata": {
    "scrolled": true
   },
   "outputs": [],
   "source": [
    "# Dependencies and Setup\n",
    "import matplotlib.pyplot as plt\n",
    "import pandas as pd\n",
    "import numpy as np\n",
    "import requests\n",
    "import time\n",
    "from scipy.stats import linregress\n",
    "\n",
    "# Import API key\n",
    "from api_keys import weather_api_key\n",
    "\n",
    "# Incorporated citipy to determine city based on latitude and longitude\n",
    "from citipy import citipy\n",
    "\n",
    "# Output File (CSV)\n",
    "output_data_file = \"output_data/cities.csv\"\n",
    "\n",
    "# Range of latitudes and longitudes\n",
    "lat_range = (-90, 90)\n",
    "lng_range = (-180, 180)"
   ]
  },
  {
   "cell_type": "markdown",
   "metadata": {},
   "source": [
    "## Generate Cities List"
   ]
  },
  {
   "cell_type": "code",
   "execution_count": 4,
   "metadata": {},
   "outputs": [
    {
     "data": {
      "text/plain": [
       "609"
      ]
     },
     "execution_count": 4,
     "metadata": {},
     "output_type": "execute_result"
    }
   ],
   "source": [
    "# List for holding lat_lngs and cities\n",
    "lat_lngs = []\n",
    "cities = []\n",
    "\n",
    "# Create a set of random lat and lng combinations\n",
    "lats = np.random.uniform(lat_range[0], lat_range[1], size=1500)\n",
    "lngs = np.random.uniform(lng_range[0], lng_range[1], size=1500)\n",
    "lat_lngs = zip(lats, lngs)\n",
    "\n",
    "# Identify nearest city for each lat, lng combination\n",
    "for lat_lng in lat_lngs:\n",
    "    city = citipy.nearest_city(lat_lng[0], lat_lng[1]).city_name\n",
    "    \n",
    "    # If the city is unique, then add it to a our cities list\n",
    "    if city not in cities:\n",
    "        cities.append(city)\n",
    "\n",
    "# Print the city count to confirm sufficient count\n",
    "len(cities)"
   ]
  },
  {
   "cell_type": "markdown",
   "metadata": {},
   "source": [
    "### Perform API Calls\n",
    "* Perform a weather check on each city using a series of successive API calls.\n",
    "* Include a print log of each city as it'sbeing processed (with the city number and city name).\n"
   ]
  },
  {
   "cell_type": "code",
   "execution_count": 5,
   "metadata": {},
   "outputs": [
    {
     "data": {
      "text/plain": [
       "'http://api.openweathermap.org/data/2.5/weather?appid=f2cb334aee0d8f1c4aaa53f4e4f9bd89&units=imperial&q='"
      ]
     },
     "execution_count": 5,
     "metadata": {},
     "output_type": "execute_result"
    }
   ],
   "source": [
    "# Save config information\n",
    "url = \"http://api.openweathermap.org/data/2.5/weather?\"\n",
    "units = \"imperial\"\n",
    "\n",
    "# Build partial query URL\n",
    "query_url = f\"{url}appid={weather_api_key}&units={units}&q=\"\n",
    "query_url"
   ]
  },
  {
   "cell_type": "code",
   "execution_count": 6,
   "metadata": {},
   "outputs": [
    {
     "name": "stdout",
     "output_type": "stream",
     "text": [
      "City not found\n",
      "City not found\n",
      "City not found\n",
      "City not found\n",
      "City not found\n",
      "City not found\n",
      "City not found\n",
      "City not found\n",
      "City not found\n",
      "City not found\n",
      "City not found\n",
      "City not found\n",
      "City not found\n",
      "City not found\n",
      "City not found\n",
      "City not found\n",
      "City not found\n",
      "City not found\n",
      "City not found\n",
      "City not found\n",
      "City not found\n",
      "City not found\n",
      "City not found\n",
      "City not found\n",
      "City not found\n",
      "City not found\n",
      "City not found\n",
      "City not found\n",
      "City not found\n",
      "City not found\n",
      "City not found\n",
      "City not found\n",
      "City not found\n",
      "City not found\n",
      "City not found\n",
      "City not found\n",
      "City not found\n",
      "City not found\n",
      "City not found\n",
      "City not found\n",
      "City not found\n",
      "City not found\n",
      "City not found\n",
      "City not found\n",
      "City not found\n",
      "City not found\n",
      "City not found\n",
      "City not found\n",
      "City not found\n",
      "City not found\n"
     ]
    }
   ],
   "source": [
    "# set up the lists to hold reponse info\n",
    "lat = []\n",
    "temp = [] \n",
    "humidity = []\n",
    "clouds = []\n",
    "wind = []\n",
    "temp_max = []\n",
    "\n",
    "#Variables to keep track of response number\n",
    "record_num = 1\n",
    "record_set = 1\n",
    "\n",
    "# Loop through the list of cities and perform a request for data on each\n",
    "for city in cities:\n",
    "    try:\n",
    "        response = requests.get(query_url + city).json()\n",
    "        lat.append(response['coord']['lat'])\n",
    "        temp.append(response['main']['temp'])\n",
    "        humidity.append(response['main']['humidity'])\n",
    "        clouds.append(response['clouds']['all'])\n",
    "        wind.append(response['wind']['speed'])\n",
    "        record_num += 1\n",
    "    except Exception:\n",
    "        print(\"City not found\")\n",
    "    #I've borrowed this piece of the code from internet wisdom; it turned out that Weather API has limitation\n",
    "    #on calls per time. it seems to be working better with this limitation!\n",
    "    if record_num == 51:\n",
    "        record_set += 1\n",
    "        record_num = 1\n",
    "        time.sleep(60)"
   ]
  },
  {
   "cell_type": "code",
   "execution_count": 8,
   "metadata": {},
   "outputs": [
    {
     "data": {
      "text/html": [
       "<div>\n",
       "<style scoped>\n",
       "    .dataframe tbody tr th:only-of-type {\n",
       "        vertical-align: middle;\n",
       "    }\n",
       "\n",
       "    .dataframe tbody tr th {\n",
       "        vertical-align: top;\n",
       "    }\n",
       "\n",
       "    .dataframe thead th {\n",
       "        text-align: right;\n",
       "    }\n",
       "</style>\n",
       "<table border=\"1\" class=\"dataframe\">\n",
       "  <thead>\n",
       "    <tr style=\"text-align: right;\">\n",
       "      <th></th>\n",
       "      <th>0</th>\n",
       "      <th>1</th>\n",
       "      <th>2</th>\n",
       "      <th>3</th>\n",
       "      <th>4</th>\n",
       "      <th>5</th>\n",
       "      <th>6</th>\n",
       "      <th>7</th>\n",
       "      <th>8</th>\n",
       "      <th>9</th>\n",
       "      <th>...</th>\n",
       "      <th>599</th>\n",
       "      <th>600</th>\n",
       "      <th>601</th>\n",
       "      <th>602</th>\n",
       "      <th>603</th>\n",
       "      <th>604</th>\n",
       "      <th>605</th>\n",
       "      <th>606</th>\n",
       "      <th>607</th>\n",
       "      <th>608</th>\n",
       "    </tr>\n",
       "  </thead>\n",
       "  <tbody>\n",
       "    <tr>\n",
       "      <th>city</th>\n",
       "      <td>busselton</td>\n",
       "      <td>port alfred</td>\n",
       "      <td>svetlogorsk</td>\n",
       "      <td>hermanus</td>\n",
       "      <td>hilo</td>\n",
       "      <td>east london</td>\n",
       "      <td>bridlington</td>\n",
       "      <td>george</td>\n",
       "      <td>bredasdorp</td>\n",
       "      <td>kyaikkami</td>\n",
       "      <td>...</td>\n",
       "      <td>port hardy</td>\n",
       "      <td>malpe</td>\n",
       "      <td>kharp</td>\n",
       "      <td>nanortalik</td>\n",
       "      <td>saint anthony</td>\n",
       "      <td>georgiyevskoye</td>\n",
       "      <td>peniche</td>\n",
       "      <td>ruatoria</td>\n",
       "      <td>ketchikan</td>\n",
       "      <td>listvyagi</td>\n",
       "    </tr>\n",
       "    <tr>\n",
       "      <th>lat</th>\n",
       "      <td>-33.65</td>\n",
       "      <td>-33.59</td>\n",
       "      <td>52.63</td>\n",
       "      <td>-34.42</td>\n",
       "      <td>19.73</td>\n",
       "      <td>-33.02</td>\n",
       "      <td>54.08</td>\n",
       "      <td>-33.96</td>\n",
       "      <td>-34.53</td>\n",
       "      <td>16.08</td>\n",
       "      <td>...</td>\n",
       "      <td>None</td>\n",
       "      <td>None</td>\n",
       "      <td>None</td>\n",
       "      <td>None</td>\n",
       "      <td>None</td>\n",
       "      <td>None</td>\n",
       "      <td>None</td>\n",
       "      <td>None</td>\n",
       "      <td>None</td>\n",
       "      <td>None</td>\n",
       "    </tr>\n",
       "    <tr>\n",
       "      <th>temp</th>\n",
       "      <td>62.6</td>\n",
       "      <td>64</td>\n",
       "      <td>74.03</td>\n",
       "      <td>57</td>\n",
       "      <td>70.86</td>\n",
       "      <td>64.4</td>\n",
       "      <td>56.71</td>\n",
       "      <td>55.4</td>\n",
       "      <td>59</td>\n",
       "      <td>84.99</td>\n",
       "      <td>...</td>\n",
       "      <td>None</td>\n",
       "      <td>None</td>\n",
       "      <td>None</td>\n",
       "      <td>None</td>\n",
       "      <td>None</td>\n",
       "      <td>None</td>\n",
       "      <td>None</td>\n",
       "      <td>None</td>\n",
       "      <td>None</td>\n",
       "      <td>None</td>\n",
       "    </tr>\n",
       "    <tr>\n",
       "      <th>humidity</th>\n",
       "      <td>43</td>\n",
       "      <td>82</td>\n",
       "      <td>80</td>\n",
       "      <td>94</td>\n",
       "      <td>73</td>\n",
       "      <td>52</td>\n",
       "      <td>93</td>\n",
       "      <td>82</td>\n",
       "      <td>77</td>\n",
       "      <td>76</td>\n",
       "      <td>...</td>\n",
       "      <td>None</td>\n",
       "      <td>None</td>\n",
       "      <td>None</td>\n",
       "      <td>None</td>\n",
       "      <td>None</td>\n",
       "      <td>None</td>\n",
       "      <td>None</td>\n",
       "      <td>None</td>\n",
       "      <td>None</td>\n",
       "      <td>None</td>\n",
       "    </tr>\n",
       "    <tr>\n",
       "      <th>clouds</th>\n",
       "      <td>0</td>\n",
       "      <td>0</td>\n",
       "      <td>53</td>\n",
       "      <td>23</td>\n",
       "      <td>20</td>\n",
       "      <td>1</td>\n",
       "      <td>100</td>\n",
       "      <td>0</td>\n",
       "      <td>1</td>\n",
       "      <td>67</td>\n",
       "      <td>...</td>\n",
       "      <td>None</td>\n",
       "      <td>None</td>\n",
       "      <td>None</td>\n",
       "      <td>None</td>\n",
       "      <td>None</td>\n",
       "      <td>None</td>\n",
       "      <td>None</td>\n",
       "      <td>None</td>\n",
       "      <td>None</td>\n",
       "      <td>None</td>\n",
       "    </tr>\n",
       "    <tr>\n",
       "      <th>wind_speed</th>\n",
       "      <td>5.41</td>\n",
       "      <td>4</td>\n",
       "      <td>8.37</td>\n",
       "      <td>7</td>\n",
       "      <td>3.36</td>\n",
       "      <td>13.87</td>\n",
       "      <td>8.05</td>\n",
       "      <td>3.36</td>\n",
       "      <td>5.17</td>\n",
       "      <td>10.74</td>\n",
       "      <td>...</td>\n",
       "      <td>None</td>\n",
       "      <td>None</td>\n",
       "      <td>None</td>\n",
       "      <td>None</td>\n",
       "      <td>None</td>\n",
       "      <td>None</td>\n",
       "      <td>None</td>\n",
       "      <td>None</td>\n",
       "      <td>None</td>\n",
       "      <td>None</td>\n",
       "    </tr>\n",
       "  </tbody>\n",
       "</table>\n",
       "<p>6 rows × 609 columns</p>\n",
       "</div>"
      ],
      "text/plain": [
       "                  0            1            2         3      4            5    \\\n",
       "city        busselton  port alfred  svetlogorsk  hermanus   hilo  east london   \n",
       "lat            -33.65       -33.59        52.63    -34.42  19.73       -33.02   \n",
       "temp             62.6           64        74.03        57  70.86         64.4   \n",
       "humidity           43           82           80        94     73           52   \n",
       "clouds              0            0           53        23     20            1   \n",
       "wind_speed       5.41            4         8.37         7   3.36        13.87   \n",
       "\n",
       "                    6       7           8          9    ...         599  \\\n",
       "city        bridlington  george  bredasdorp  kyaikkami  ...  port hardy   \n",
       "lat               54.08  -33.96      -34.53      16.08  ...        None   \n",
       "temp              56.71    55.4          59      84.99  ...        None   \n",
       "humidity             93      82          77         76  ...        None   \n",
       "clouds              100       0           1         67  ...        None   \n",
       "wind_speed         8.05    3.36        5.17      10.74  ...        None   \n",
       "\n",
       "              600    601         602            603             604      605  \\\n",
       "city        malpe  kharp  nanortalik  saint anthony  georgiyevskoye  peniche   \n",
       "lat          None   None        None           None            None     None   \n",
       "temp         None   None        None           None            None     None   \n",
       "humidity     None   None        None           None            None     None   \n",
       "clouds       None   None        None           None            None     None   \n",
       "wind_speed   None   None        None           None            None     None   \n",
       "\n",
       "                 606        607        608  \n",
       "city        ruatoria  ketchikan  listvyagi  \n",
       "lat             None       None       None  \n",
       "temp            None       None       None  \n",
       "humidity        None       None       None  \n",
       "clouds          None       None       None  \n",
       "wind_speed      None       None       None  \n",
       "\n",
       "[6 rows x 609 columns]"
      ]
     },
     "execution_count": 8,
     "metadata": {},
     "output_type": "execute_result"
    }
   ],
   "source": [
    "# create a data frame from the received inputs\n",
    "weather_dict = {\n",
    "    \"city\": cities,\n",
    "    \"lat\": lat,\n",
    "    \"temp\": temp,\n",
    "    \"humidity\": humidity,\n",
    "    \"clouds\": clouds,\n",
    "    \"wind_speed\": wind\n",
    "}\n",
    "weather_data_df = pd.DataFrame.from_dict(weather_dict, orient='index')\n",
    "weather_data_df.transpose()\n",
    "weather_data_df.head(10)"
   ]
  },
  {
   "cell_type": "code",
   "execution_count": 9,
   "metadata": {},
   "outputs": [
    {
     "data": {
      "text/html": [
       "<div>\n",
       "<style scoped>\n",
       "    .dataframe tbody tr th:only-of-type {\n",
       "        vertical-align: middle;\n",
       "    }\n",
       "\n",
       "    .dataframe tbody tr th {\n",
       "        vertical-align: top;\n",
       "    }\n",
       "\n",
       "    .dataframe thead th {\n",
       "        text-align: right;\n",
       "    }\n",
       "</style>\n",
       "<table border=\"1\" class=\"dataframe\">\n",
       "  <thead>\n",
       "    <tr style=\"text-align: right;\">\n",
       "      <th></th>\n",
       "      <th>city</th>\n",
       "      <th>lat</th>\n",
       "      <th>temp</th>\n",
       "      <th>humidity</th>\n",
       "      <th>clouds</th>\n",
       "      <th>wind_speed</th>\n",
       "    </tr>\n",
       "  </thead>\n",
       "  <tbody>\n",
       "    <tr>\n",
       "      <th>0</th>\n",
       "      <td>busselton</td>\n",
       "      <td>-33.65</td>\n",
       "      <td>62.6</td>\n",
       "      <td>43</td>\n",
       "      <td>0</td>\n",
       "      <td>5.41</td>\n",
       "    </tr>\n",
       "    <tr>\n",
       "      <th>1</th>\n",
       "      <td>port alfred</td>\n",
       "      <td>-33.59</td>\n",
       "      <td>64</td>\n",
       "      <td>82</td>\n",
       "      <td>0</td>\n",
       "      <td>4</td>\n",
       "    </tr>\n",
       "    <tr>\n",
       "      <th>2</th>\n",
       "      <td>svetlogorsk</td>\n",
       "      <td>52.63</td>\n",
       "      <td>74.03</td>\n",
       "      <td>80</td>\n",
       "      <td>53</td>\n",
       "      <td>8.37</td>\n",
       "    </tr>\n",
       "    <tr>\n",
       "      <th>3</th>\n",
       "      <td>hermanus</td>\n",
       "      <td>-34.42</td>\n",
       "      <td>57</td>\n",
       "      <td>94</td>\n",
       "      <td>23</td>\n",
       "      <td>7</td>\n",
       "    </tr>\n",
       "    <tr>\n",
       "      <th>4</th>\n",
       "      <td>hilo</td>\n",
       "      <td>19.73</td>\n",
       "      <td>70.86</td>\n",
       "      <td>73</td>\n",
       "      <td>20</td>\n",
       "      <td>3.36</td>\n",
       "    </tr>\n",
       "  </tbody>\n",
       "</table>\n",
       "</div>"
      ],
      "text/plain": [
       "          city    lat   temp humidity clouds wind_speed\n",
       "0    busselton -33.65   62.6       43      0       5.41\n",
       "1  port alfred -33.59     64       82      0          4\n",
       "2  svetlogorsk  52.63  74.03       80     53       8.37\n",
       "3     hermanus -34.42     57       94     23          7\n",
       "4         hilo  19.73  70.86       73     20       3.36"
      ]
     },
     "execution_count": 9,
     "metadata": {},
     "output_type": "execute_result"
    }
   ],
   "source": [
    "#drop missing data\n",
    "weather_data_clean_df = weather_data_df.dropna(axis='columns')\n",
    "weather_data_fin_df = weather_data_clean_df.transpose()\n",
    "weather_data_fin_df.head()"
   ]
  },
  {
   "cell_type": "code",
   "execution_count": 10,
   "metadata": {},
   "outputs": [
    {
     "name": "stdout",
     "output_type": "stream",
     "text": [
      "<class 'pandas.core.frame.DataFrame'>\n",
      "Int64Index: 559 entries, 0 to 558\n",
      "Data columns (total 6 columns):\n",
      " #   Column      Non-Null Count  Dtype \n",
      "---  ------      --------------  ----- \n",
      " 0   city        559 non-null    object\n",
      " 1   lat         559 non-null    object\n",
      " 2   temp        559 non-null    object\n",
      " 3   humidity    559 non-null    object\n",
      " 4   clouds      559 non-null    object\n",
      " 5   wind_speed  559 non-null    object\n",
      "dtypes: object(6)\n",
      "memory usage: 30.6+ KB\n"
     ]
    }
   ],
   "source": [
    "weather_data_fin_df.info()"
   ]
  },
  {
   "cell_type": "markdown",
   "metadata": {},
   "source": [
    "### Convert Raw Data to DataFrame\n",
    "* Export the city data into a .csv.\n",
    "* Display the DataFrame"
   ]
  },
  {
   "cell_type": "code",
   "execution_count": 11,
   "metadata": {},
   "outputs": [],
   "source": [
    "weather_data_fin_df.to_csv (r'C:\\Users\\spalt\\OneDrive\\Desktop\\Python_APIs_Hwork\\exp_weath_dataframe.csv', index = False, header=True)"
   ]
  },
  {
   "cell_type": "code",
   "execution_count": 12,
   "metadata": {},
   "outputs": [
    {
     "name": "stdout",
     "output_type": "stream",
     "text": [
      "            city    lat   temp humidity clouds wind_speed\n",
      "0      busselton -33.65   62.6       43      0       5.41\n",
      "1    port alfred -33.59     64       82      0          4\n",
      "2    svetlogorsk  52.63  74.03       80     53       8.37\n",
      "3       hermanus -34.42     57       94     23          7\n",
      "4           hilo  19.73  70.86       73     20       3.36\n",
      "..           ...    ...    ...      ...    ...        ...\n",
      "554         atar  45.02  61.36       77      1        4.7\n",
      "555       kachug  58.73  58.66       47      0       9.33\n",
      "556    mount isa  39.36  65.66       88      5       8.99\n",
      "557    batsfjord  55.34   52.5       71     90       6.93\n",
      "558         soyo  53.68  58.71       66    100       8.37\n",
      "\n",
      "[559 rows x 6 columns]\n"
     ]
    }
   ],
   "source": [
    "print (weather_data_fin_df)"
   ]
  },
  {
   "cell_type": "markdown",
   "metadata": {},
   "source": [
    "## Inspect the data and remove the cities where the humidity > 100%.\n",
    "----\n",
    "Skip this step if there are no cities that have humidity > 100%. "
   ]
  },
  {
   "cell_type": "markdown",
   "metadata": {},
   "source": [
    "## Plotting the Data\n",
    "* Use proper labeling of the plots using plot titles (including date of analysis) and axes labels.\n",
    "* Save the plotted figures as .pngs."
   ]
  },
  {
   "cell_type": "markdown",
   "metadata": {},
   "source": [
    "## Latitude vs. Temperature Plot"
   ]
  },
  {
   "cell_type": "code",
   "execution_count": 14,
   "metadata": {
    "scrolled": true
   },
   "outputs": [
    {
     "data": {
      "image/png": "[encoded data removed]",
      "text/plain": [
       "<Figure size 432x288 with 1 Axes>"
      ]
     },
     "metadata": {
      "needs_background": "light"
     },
     "output_type": "display_data"
    }
   ],
   "source": [
    "# Build a scatter plot Lat vs Temp\n",
    "plt.scatter(weather_data_fin_df[\"lat\"], weather_data_fin_df[\"temp\"], marker=\"o\")\n",
    "\n",
    "# Incorporate the other graph properties\n",
    "plt.title(\"Latitude vs. Temperature Plot\")\n",
    "plt.ylabel(\"Temperature (F)\")\n",
    "plt.xlabel(\"Latitude\")\n",
    "plt.grid(True)\n",
    "\n",
    "# Save the figure\n",
    "plt.savefig(\"LatitudeVsTemperaturePlot.png\")\n",
    "\n",
    "# Show plot\n",
    "plt.show()"
   ]
  },
  {
   "cell_type": "markdown",
   "metadata": {},
   "source": [
    "## Latitude vs. Humidity Plot"
   ]
  },
  {
   "cell_type": "code",
   "execution_count": 15,
   "metadata": {},
   "outputs": [
    {
     "data": {
      "image/png": "[encoded data removed]",
      "text/plain": [
       "<Figure size 432x288 with 1 Axes>"
      ]
     },
     "metadata": {
      "needs_background": "light"
     },
     "output_type": "display_data"
    }
   ],
   "source": [
    "# Build a scatter plot Lat vs Temp\n",
    "plt.scatter(weather_data_fin_df[\"lat\"], weather_data_fin_df[\"humidity\"], marker=\"o\")\n",
    "\n",
    "# Incorporate the other graph properties\n",
    "plt.title(\"Latitude vs. Humidity Plot\")\n",
    "plt.ylabel(\"Humidity, %\")\n",
    "plt.xlabel(\"Latitude\")\n",
    "plt.grid(True)\n",
    "\n",
    "# Save the figure\n",
    "plt.savefig(\"LatitudeVsHumidityPlot.png\")\n",
    "\n",
    "# Show plot\n",
    "plt.show()"
   ]
  },
  {
   "cell_type": "markdown",
   "metadata": {},
   "source": [
    "## Latitude vs. Cloudiness Plot"
   ]
  },
  {
   "cell_type": "code",
   "execution_count": 16,
   "metadata": {},
   "outputs": [
    {
     "data": {
      "image/png": "[encoded data removed]",
      "text/plain": [
       "<Figure size 432x288 with 1 Axes>"
      ]
     },
     "metadata": {
      "needs_background": "light"
     },
     "output_type": "display_data"
    }
   ],
   "source": [
    "# Build a scatter plot Lat vs Temp\n",
    "plt.scatter(weather_data_fin_df[\"lat\"], weather_data_fin_df[\"clouds\"], marker=\"o\")\n",
    "\n",
    "# Incorporate the other graph properties\n",
    "plt.title(\"Latitude vs. Cloudiness Plot\")\n",
    "plt.ylabel(\"Cloudiness\")\n",
    "plt.xlabel(\"Latitude\")\n",
    "plt.grid(True)\n",
    "\n",
    "# Save the figure\n",
    "plt.savefig(\"LatitudeVsCloudinessPlot.png\")\n",
    "\n",
    "# Show plot\n",
    "plt.show()"
   ]
  },
  {
   "cell_type": "markdown",
   "metadata": {},
   "source": [
    "## Latitude vs. Wind Speed Plot"
   ]
  },
  {
   "cell_type": "code",
   "execution_count": 17,
   "metadata": {},
   "outputs": [
    {
     "data": {
      "image/png": "[encoded data removed]",
      "text/plain": [
       "<Figure size 432x288 with 1 Axes>"
      ]
     },
     "metadata": {
      "needs_background": "light"
     },
     "output_type": "display_data"
    }
   ],
   "source": [
    "# Build a scatter plot Lat vs Temp\n",
    "plt.scatter(weather_data_fin_df[\"lat\"], weather_data_fin_df[\"wind_speed\"], marker=\"o\")\n",
    "\n",
    "# Incorporate the other graph properties\n",
    "plt.title(\"Latitude vs. Wind Speed Plot\")\n",
    "plt.ylabel(\"Wind Speed\")\n",
    "plt.xlabel(\"Latitude\")\n",
    "plt.grid(True)\n",
    "\n",
    "# Save the figure\n",
    "plt.savefig(\"LatitudeVsWindPlot.png\")\n",
    "\n",
    "# Show plot\n",
    "plt.show()"
   ]
  },
  {
   "cell_type": "markdown",
   "metadata": {},
   "source": [
    "## Linear Regression"
   ]
  },
  {
   "cell_type": "code",
   "execution_count": null,
   "metadata": {},
   "outputs": [],
   "source": [
    "# OPTIONAL: Create a function to create Linear Regression plots"
   ]
  },
  {
   "cell_type": "code",
   "execution_count": 22,
   "metadata": {},
   "outputs": [
    {
     "data": {
      "text/html": [
       "<div>\n",
       "<style scoped>\n",
       "    .dataframe tbody tr th:only-of-type {\n",
       "        vertical-align: middle;\n",
       "    }\n",
       "\n",
       "    .dataframe tbody tr th {\n",
       "        vertical-align: top;\n",
       "    }\n",
       "\n",
       "    .dataframe thead th {\n",
       "        text-align: right;\n",
       "    }\n",
       "</style>\n",
       "<table border=\"1\" class=\"dataframe\">\n",
       "  <thead>\n",
       "    <tr style=\"text-align: right;\">\n",
       "      <th></th>\n",
       "      <th>city</th>\n",
       "      <th>lat</th>\n",
       "      <th>temp</th>\n",
       "      <th>humidity</th>\n",
       "      <th>clouds</th>\n",
       "      <th>wind_speed</th>\n",
       "    </tr>\n",
       "  </thead>\n",
       "  <tbody>\n",
       "    <tr>\n",
       "      <th>2</th>\n",
       "      <td>svetlogorsk</td>\n",
       "      <td>52.63</td>\n",
       "      <td>74.03</td>\n",
       "      <td>80</td>\n",
       "      <td>53</td>\n",
       "      <td>8.37</td>\n",
       "    </tr>\n",
       "    <tr>\n",
       "      <th>4</th>\n",
       "      <td>hilo</td>\n",
       "      <td>19.73</td>\n",
       "      <td>70.86</td>\n",
       "      <td>73</td>\n",
       "      <td>20</td>\n",
       "      <td>3.36</td>\n",
       "    </tr>\n",
       "    <tr>\n",
       "      <th>6</th>\n",
       "      <td>bridlington</td>\n",
       "      <td>54.08</td>\n",
       "      <td>56.71</td>\n",
       "      <td>93</td>\n",
       "      <td>100</td>\n",
       "      <td>8.05</td>\n",
       "    </tr>\n",
       "  </tbody>\n",
       "</table>\n",
       "</div>"
      ],
      "text/plain": [
       "          city    lat   temp humidity clouds wind_speed\n",
       "2  svetlogorsk  52.63  74.03       80     53       8.37\n",
       "4         hilo  19.73  70.86       73     20       3.36\n",
       "6  bridlington  54.08  56.71       93    100       8.05"
      ]
     },
     "execution_count": 22,
     "metadata": {},
     "output_type": "execute_result"
    }
   ],
   "source": [
    "# Create Northern Hemisphere DataFrames (greater than or equal to 0 degrees latitude)\n",
    "northern_df = weather_data_fin_df.loc[(weather_data_fin_df['lat'] >= 0)] \n",
    "northern_df.head(3)"
   ]
  },
  {
   "cell_type": "code",
   "execution_count": 21,
   "metadata": {},
   "outputs": [
    {
     "data": {
      "text/html": [
       "<div>\n",
       "<style scoped>\n",
       "    .dataframe tbody tr th:only-of-type {\n",
       "        vertical-align: middle;\n",
       "    }\n",
       "\n",
       "    .dataframe tbody tr th {\n",
       "        vertical-align: top;\n",
       "    }\n",
       "\n",
       "    .dataframe thead th {\n",
       "        text-align: right;\n",
       "    }\n",
       "</style>\n",
       "<table border=\"1\" class=\"dataframe\">\n",
       "  <thead>\n",
       "    <tr style=\"text-align: right;\">\n",
       "      <th></th>\n",
       "      <th>city</th>\n",
       "      <th>lat</th>\n",
       "      <th>temp</th>\n",
       "      <th>humidity</th>\n",
       "      <th>clouds</th>\n",
       "      <th>wind_speed</th>\n",
       "    </tr>\n",
       "  </thead>\n",
       "  <tbody>\n",
       "    <tr>\n",
       "      <th>0</th>\n",
       "      <td>busselton</td>\n",
       "      <td>-33.65</td>\n",
       "      <td>62.6</td>\n",
       "      <td>43</td>\n",
       "      <td>0</td>\n",
       "      <td>5.41</td>\n",
       "    </tr>\n",
       "    <tr>\n",
       "      <th>1</th>\n",
       "      <td>port alfred</td>\n",
       "      <td>-33.59</td>\n",
       "      <td>64</td>\n",
       "      <td>82</td>\n",
       "      <td>0</td>\n",
       "      <td>4</td>\n",
       "    </tr>\n",
       "    <tr>\n",
       "      <th>3</th>\n",
       "      <td>hermanus</td>\n",
       "      <td>-34.42</td>\n",
       "      <td>57</td>\n",
       "      <td>94</td>\n",
       "      <td>23</td>\n",
       "      <td>7</td>\n",
       "    </tr>\n",
       "  </tbody>\n",
       "</table>\n",
       "</div>"
      ],
      "text/plain": [
       "          city    lat  temp humidity clouds wind_speed\n",
       "0    busselton -33.65  62.6       43      0       5.41\n",
       "1  port alfred -33.59    64       82      0          4\n",
       "3     hermanus -34.42    57       94     23          7"
      ]
     },
     "execution_count": 21,
     "metadata": {},
     "output_type": "execute_result"
    }
   ],
   "source": [
    "# Create Southern Hemisphere DataFrames (less than 0 degrees latitude)\n",
    "southern_df = weather_data_fin_df.loc[(weather_data_fin_df['lat'] < 0)] \n",
    "southern_df.head(3)"
   ]
  },
  {
   "cell_type": "code",
   "execution_count": null,
   "metadata": {},
   "outputs": [],
   "source": [
    "# Create a Scatter Plot for temperature vs latitude\n",
    "x_values = weather_data_nh['lat']\n",
    "y_values = weather_data_nh['temp']\n",
    "plt.scatter(x_values,y_values)\n",
    "plt.xlabel('Latitude')\n",
    "plt.ylabel('Temperature')\n",
    "plt.show()"
   ]
  },
  {
   "cell_type": "markdown",
   "metadata": {},
   "source": [
    "Northern Hemisphere - Max Temp vs. Latitude Linear Regression"
   ]
  },
  {
   "cell_type": "code",
   "execution_count": 35,
   "metadata": {},
   "outputs": [
    {
     "name": "stdout",
     "output_type": "stream",
     "text": [
      "R squared: 0.40234859880755397\n"
     ]
    },
    {
     "data": {
      "image/png": "[encoded data removed]",
      "text/plain": [
       "<Figure size 432x288 with 1 Axes>"
      ]
     },
     "metadata": {
      "needs_background": "light"
     },
     "output_type": "display_data"
    }
   ],
   "source": [
    "x_values = northern_df['lat'].astype('float')\n",
    "y_values = northern_df['temp'].astype('float')\n",
    "\n",
    "# Run linear regression\n",
    "(slope, intercept, rvalue, pvalue, stderr) = linregress(x_values, y_values)\n",
    "regress_values = x_values * slope + intercept\n",
    "line_eq = \"y = \" + str(round(slope,2)) + \"x + \" + str(round(intercept,2))\n",
    "\n",
    "# Plot scatter plot\n",
    "plt.scatter(x_values,y_values)\n",
    "\n",
    "# Plot regression line\n",
    "plt.plot(x_values,regress_values,\"r-\")\n",
    "plt.annotate(line_eq,(6,10),fontsize=15,color=\"red\")\n",
    "\n",
    "# Label plot\n",
    "plt.xlabel('Latitude')\n",
    "plt.ylabel('Max Temperature')\n",
    "\n",
    "# Print r square value\n",
    "print(f\"R squared: {rvalue**2}\")\n",
    "\n",
    "# Save the figure\n",
    "plt.savefig(\"NHemp_MTempVsLatR.png\")\n",
    "\n",
    "# Show plot\n",
    "plt.show()"
   ]
  },
  {
   "cell_type": "markdown",
   "metadata": {},
   "source": [
    "####  Southern Hemisphere - Max Temp vs. Latitude Linear Regression"
   ]
  },
  {
   "cell_type": "code",
   "execution_count": 36,
   "metadata": {},
   "outputs": [
    {
     "name": "stdout",
     "output_type": "stream",
     "text": [
      "R squared: 0.650329686631129\n"
     ]
    },
    {
     "data": {
      "image/png": "[encoded data removed]",
      "text/plain": [
       "<Figure size 432x288 with 1 Axes>"
      ]
     },
     "metadata": {
      "needs_background": "light"
     },
     "output_type": "display_data"
    }
   ],
   "source": [
    "x_values = southern_df['lat'].astype('float')\n",
    "y_values = southern_df['temp'].astype('float')\n",
    "\n",
    "# Run linear regression\n",
    "(slope, intercept, rvalue, pvalue, stderr) = linregress(x_values, y_values)\n",
    "regress_values = x_values * slope + intercept\n",
    "line_eq = \"y = \" + str(round(slope,2)) + \"x + \" + str(round(intercept,2))\n",
    "\n",
    "# Plot scatter plot\n",
    "plt.scatter(x_values,y_values)\n",
    "\n",
    "# Plot regression line\n",
    "plt.plot(x_values,regress_values,\"r-\")\n",
    "plt.annotate(line_eq,(6,10),fontsize=15,color=\"red\")\n",
    "\n",
    "# Label plot\n",
    "plt.xlabel('Latitude')\n",
    "plt.ylabel('Max Temperature')\n",
    "\n",
    "# Print r square value\n",
    "print(f\"R squared: {rvalue**2}\")\n",
    "\n",
    "# Save the figure\n",
    "plt.savefig(\"SHemp_MTempVsLatR.png\")\n",
    "\n",
    "# Show plot\n",
    "plt.show()"
   ]
  },
  {
   "cell_type": "code",
   "execution_count": null,
   "metadata": {},
   "outputs": [],
   "source": [
    "There is a substantial relationship/correlation between temperature and Latitude for both Southern & Northerns Hemispheres: \n",
    "approximately 40% for northern and even greater (65%) for south hemisphere \n",
    "( percentage of the response variable variationthat is explained by a linear model)"
   ]
  },
  {
   "cell_type": "markdown",
   "metadata": {},
   "source": [
    "####  Northern Hemisphere - Humidity (%) vs. Latitude Linear Regression"
   ]
  },
  {
   "cell_type": "code",
   "execution_count": 37,
   "metadata": {},
   "outputs": [
    {
     "name": "stdout",
     "output_type": "stream",
     "text": [
      "R squared: 0.00425463036159991\n"
     ]
    },
    {
     "data": {
      "image/png": "[encoded data removed]",
      "text/plain": [
       "<Figure size 432x288 with 1 Axes>"
      ]
     },
     "metadata": {
      "needs_background": "light"
     },
     "output_type": "display_data"
    }
   ],
   "source": [
    "x_values = northern_df['lat'].astype('float')\n",
    "y_values = northern_df['humidity'].astype('float')\n",
    "\n",
    "# Run linear regression\n",
    "(slope, intercept, rvalue, pvalue, stderr) = linregress(x_values, y_values)\n",
    "regress_values = x_values * slope + intercept\n",
    "line_eq = \"y = \" + str(round(slope,2)) + \"x + \" + str(round(intercept,2))\n",
    "\n",
    "# Plot scatter plot\n",
    "plt.scatter(x_values,y_values)\n",
    "\n",
    "# Plot regression line\n",
    "plt.plot(x_values,regress_values,\"r-\")\n",
    "plt.annotate(line_eq,(6,10),fontsize=15,color=\"red\")\n",
    "\n",
    "# Label plot\n",
    "plt.xlabel('Latitude')\n",
    "plt.ylabel('Humidity (%)')\n",
    "\n",
    "# Print r square value\n",
    "print(f\"R squared: {rvalue**2}\")\n",
    "\n",
    "# Save the figure\n",
    "plt.savefig(\"NHemp_HumVsLatR.png\")\n",
    "\n",
    "# Show plot\n",
    "plt.show()"
   ]
  },
  {
   "cell_type": "markdown",
   "metadata": {},
   "source": [
    "####  Southern Hemisphere - Humidity (%) vs. Latitude Linear Regression"
   ]
  },
  {
   "cell_type": "code",
   "execution_count": 43,
   "metadata": {},
   "outputs": [
    {
     "name": "stdout",
     "output_type": "stream",
     "text": [
      "R squared: 0.005444181749280628\n"
     ]
    },
    {
     "data": {
      "image/png": "[encoded data removed]",
      "text/plain": [
       "<Figure size 432x288 with 1 Axes>"
      ]
     },
     "metadata": {
      "needs_background": "light"
     },
     "output_type": "display_data"
    }
   ],
   "source": [
    "x_values = southern_df['lat'].astype('float')\n",
    "y_values = southern_df['humidity'].astype('float')\n",
    "\n",
    "# Run linear regression\n",
    "(slope, intercept, rvalue, pvalue, stderr) = linregress(x_values, y_values)\n",
    "regress_values = x_values * slope + intercept\n",
    "line_eq = \"y = \" + str(round(slope,2)) + \"x + \" + str(round(intercept,2))\n",
    "\n",
    "# Plot scatter plot\n",
    "plt.scatter(x_values,y_values)\n",
    "\n",
    "# Plot regression line\n",
    "plt.plot(x_values,regress_values,\"r-\")\n",
    "plt.annotate(line_eq,(6,10),fontsize=15,color=\"red\")\n",
    "\n",
    "# Label plot\n",
    "plt.xlabel('Latitude')\n",
    "plt.ylabel('Humidity (%)')\n",
    "\n",
    "# Print r square value\n",
    "print(f\"R squared: {rvalue**2}\")\n",
    "\n",
    "# Save the figure\n",
    "plt.savefig(\"SHemp_HumVsLatR.png\")\n",
    "\n",
    "# Show plot\n",
    "plt.show()"
   ]
  },
  {
   "cell_type": "code",
   "execution_count": null,
   "metadata": {},
   "outputs": [],
   "source": [
    "The relationship between the humidity and latitude is non-substantial for both nothern and southern hemispheres (~0.4% and ~0.5% respectively)"
   ]
  },
  {
   "cell_type": "markdown",
   "metadata": {},
   "source": [
    "####  Northern Hemisphere - Cloudiness (%) vs. Latitude Linear Regression"
   ]
  },
  {
   "cell_type": "code",
   "execution_count": 39,
   "metadata": {},
   "outputs": [
    {
     "name": "stdout",
     "output_type": "stream",
     "text": [
      "R squared: 0.027813637251444867\n"
     ]
    },
    {
     "data": {
      "image/png": "[encoded data removed]",
      "text/plain": [
       "<Figure size 432x288 with 1 Axes>"
      ]
     },
     "metadata": {
      "needs_background": "light"
     },
     "output_type": "display_data"
    }
   ],
   "source": [
    "x_values = northern_df['lat'].astype('float')\n",
    "y_values = northern_df['clouds'].astype('float')\n",
    "\n",
    "# Run linear regression\n",
    "(slope, intercept, rvalue, pvalue, stderr) = linregress(x_values, y_values)\n",
    "regress_values = x_values * slope + intercept\n",
    "line_eq = \"y = \" + str(round(slope,2)) + \"x + \" + str(round(intercept,2))\n",
    "\n",
    "# Plot scatter plot\n",
    "plt.scatter(x_values,y_values)\n",
    "\n",
    "# Plot regression line\n",
    "plt.plot(x_values,regress_values,\"r-\")\n",
    "plt.annotate(line_eq,(6,10),fontsize=15,color=\"red\")\n",
    "\n",
    "# Label plot\n",
    "plt.xlabel('Latitude')\n",
    "plt.ylabel('Cloudiness (%)')\n",
    "\n",
    "# Print r square value\n",
    "print(f\"R squared: {rvalue**2}\")\n",
    "\n",
    "# Save the figure\n",
    "plt.savefig(\"NHemp_CloudVsLatR.png\")\n",
    "\n",
    "# Show plot\n",
    "plt.show()"
   ]
  },
  {
   "cell_type": "markdown",
   "metadata": {},
   "source": [
    "####  Southern Hemisphere - Cloudiness (%) vs. Latitude Linear Regression"
   ]
  },
  {
   "cell_type": "code",
   "execution_count": 40,
   "metadata": {},
   "outputs": [
    {
     "name": "stdout",
     "output_type": "stream",
     "text": [
      "R squared: 0.021692741607701092\n"
     ]
    },
    {
     "data": {
      "image/png": "[encoded data removed]",
      "text/plain": [
       "<Figure size 432x288 with 1 Axes>"
      ]
     },
     "metadata": {
      "needs_background": "light"
     },
     "output_type": "display_data"
    }
   ],
   "source": [
    "x_values = southern_df['lat'].astype('float')\n",
    "y_values = southern_df['clouds'].astype('float')\n",
    "\n",
    "# Run linear regression\n",
    "(slope, intercept, rvalue, pvalue, stderr) = linregress(x_values, y_values)\n",
    "regress_values = x_values * slope + intercept\n",
    "line_eq = \"y = \" + str(round(slope,2)) + \"x + \" + str(round(intercept,2))\n",
    "\n",
    "# Plot scatter plot\n",
    "plt.scatter(x_values,y_values)\n",
    "\n",
    "# Plot regression line\n",
    "plt.plot(x_values,regress_values,\"r-\")\n",
    "plt.annotate(line_eq,(6,10),fontsize=15,color=\"red\")\n",
    "\n",
    "# Label plot\n",
    "plt.xlabel('Latitude')\n",
    "plt.ylabel('Cloudiness (%)')\n",
    "\n",
    "# Print r square value\n",
    "print(f\"R squared: {rvalue**2}\")\n",
    "\n",
    "# Save the figure\n",
    "plt.savefig(\"SHemp_CloudVsLatR.png\")\n",
    "\n",
    "# Show plot\n",
    "plt.show()"
   ]
  },
  {
   "cell_type": "markdown",
   "metadata": {},
   "source": [
    "####  Northern Hemisphere - Wind Speed (mph) vs. Latitude Linear Regression"
   ]
  },
  {
   "cell_type": "code",
   "execution_count": 41,
   "metadata": {},
   "outputs": [
    {
     "name": "stdout",
     "output_type": "stream",
     "text": [
      "R squared: 0.002657905330280131\n"
     ]
    },
    {
     "data": {
      "image/png": "[encoded data removed]",
      "text/plain": [
       "<Figure size 432x288 with 1 Axes>"
      ]
     },
     "metadata": {
      "needs_background": "light"
     },
     "output_type": "display_data"
    }
   ],
   "source": [
    "x_values = northern_df['lat'].astype('float')\n",
    "y_values = northern_df['wind_speed'].astype('float')\n",
    "\n",
    "# Run linear regression\n",
    "(slope, intercept, rvalue, pvalue, stderr) = linregress(x_values, y_values)\n",
    "regress_values = x_values * slope + intercept\n",
    "line_eq = \"y = \" + str(round(slope,2)) + \"x + \" + str(round(intercept,2))\n",
    "\n",
    "# Plot scatter plot\n",
    "plt.scatter(x_values,y_values)\n",
    "\n",
    "# Plot regression line\n",
    "plt.plot(x_values,regress_values,\"r-\")\n",
    "plt.annotate(line_eq,(6,10),fontsize=15,color=\"red\")\n",
    "\n",
    "# Label plot\n",
    "plt.xlabel('Latitude')\n",
    "plt.ylabel('Wind Speed (mph)')\n",
    "\n",
    "# Print r square value\n",
    "print(f\"R squared: {rvalue**2}\")\n",
    "\n",
    "# Save the figure\n",
    "plt.savefig(\"NHemp_WindVsLatR.png\")\n",
    "\n",
    "# Show plot\n",
    "plt.show()"
   ]
  },
  {
   "cell_type": "markdown",
   "metadata": {},
   "source": [
    "####  Southern Hemisphere - Wind Speed (mph) vs. Latitude Linear Regression"
   ]
  },
  {
   "cell_type": "code",
   "execution_count": 42,
   "metadata": {},
   "outputs": [
    {
     "name": "stdout",
     "output_type": "stream",
     "text": [
      "R squared: 6.14599983935025e-05\n"
     ]
    },
    {
     "data": {
      "image/png": "[encoded data removed]",
      "text/plain": [
       "<Figure size 432x288 with 1 Axes>"
      ]
     },
     "metadata": {
      "needs_background": "light"
     },
     "output_type": "display_data"
    }
   ],
   "source": [
    "x_values = southern_df['lat'].astype('float')\n",
    "y_values = southern_df['wind_speed'].astype('float')\n",
    "\n",
    "# Run linear regression\n",
    "(slope, intercept, rvalue, pvalue, stderr) = linregress(x_values, y_values)\n",
    "regress_values = x_values * slope + intercept\n",
    "line_eq = \"y = \" + str(round(slope,2)) + \"x + \" + str(round(intercept,2))\n",
    "\n",
    "# Plot scatter plot\n",
    "plt.scatter(x_values,y_values)\n",
    "\n",
    "# Plot regression line\n",
    "plt.plot(x_values,regress_values,\"r-\")\n",
    "plt.annotate(line_eq,(6,10),fontsize=15,color=\"red\")\n",
    "\n",
    "# Label plot\n",
    "plt.xlabel('Latitude')\n",
    "plt.ylabel('Wind Speed (mph)')\n",
    "\n",
    "# Print r square value\n",
    "print(f\"R squared: {rvalue**2}\")\n",
    "\n",
    "# Save the figure\n",
    "plt.savefig(\"SHemp_WindVsLatR.png\")\n",
    "\n",
    "# Show plot\n",
    "plt.show()"
   ]
  },
  {
   "cell_type": "code",
   "execution_count": null,
   "metadata": {},
   "outputs": [],
   "source": [
    "The relationship between cloudiness and wind speed and latitude are non-substantial for both nothern and southern hemispheres"
   ]
  }
 ],
 "metadata": {
  "anaconda-cloud": {},
  "kernel_info": {
   "name": "python3"
  },
  "kernelspec": {
   "display_name": "Python [conda env:root] *",
   "language": "python",
   "name": "conda-root-py"
  },
  "language_info": {
   "codemirror_mode": {
    "name": "ipython",
    "version": 3
   },
   "file_extension": ".py",
   "mimetype": "text/x-python",
   "name": "python",
   "nbconvert_exporter": "python",
   "pygments_lexer": "ipython3",
   "version": "3.7.6"
  },
  "latex_envs": {
   "LaTeX_envs_menu_present": true,
   "autoclose": false,
   "autocomplete": true,
   "bibliofile": "biblio.bib",
   "cite_by": "apalike",
   "current_citInitial": 1,
   "eqLabelWithNumbers": true,
   "eqNumInitial": 1,
   "hotkeys": {
    "equation": "Ctrl-E",
    "itemize": "Ctrl-I"
   },
   "labels_anchors": false,
   "latex_user_defs": false,
   "report_style_numbering": false,
   "user_envs_cfg": false
  },
  "nteract": {
   "version": "0.12.3"
  }
 },
 "nbformat": 4,
 "nbformat_minor": 2
}
